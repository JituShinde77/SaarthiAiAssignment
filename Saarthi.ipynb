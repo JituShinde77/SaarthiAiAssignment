{
  "nbformat": 4,
  "nbformat_minor": 0,
  "metadata": {
    "colab": {
      "name": "Saarthi.ipynb",
      "provenance": [],
      "collapsed_sections": []
    },
    "kernelspec": {
      "name": "python3",
      "display_name": "Python 3"
    }
  },
  "cells": [
    {
      "cell_type": "code",
      "metadata": {
        "id": "3LnmZ3wAG_WA",
        "colab_type": "code",
        "colab": {
          "base_uri": "https://localhost:8080/",
          "height": 121
        },
        "outputId": "c87372f0-abee-4c21-c210-e06da82a3e36"
      },
      "source": [
        "from google.colab import drive\n",
        "drive.mount('/content/gdrive')"
      ],
      "execution_count": 1,
      "outputs": [
        {
          "output_type": "stream",
          "text": [
            "Go to this URL in a browser: https://accounts.google.com/o/oauth2/auth?client_id=947318989803-6bn6qk8qdgf4n4g3pfee6491hc0brc4i.apps.googleusercontent.com&redirect_uri=urn%3aietf%3awg%3aoauth%3a2.0%3aoob&response_type=code&scope=email%20https%3a%2f%2fwww.googleapis.com%2fauth%2fdocs.test%20https%3a%2f%2fwww.googleapis.com%2fauth%2fdrive%20https%3a%2f%2fwww.googleapis.com%2fauth%2fdrive.photos.readonly%20https%3a%2f%2fwww.googleapis.com%2fauth%2fpeopleapi.readonly\n",
            "\n",
            "Enter your authorization code:\n",
            "··········\n",
            "Mounted at /content/gdrive\n"
          ],
          "name": "stdout"
        }
      ]
    },
    {
      "cell_type": "code",
      "metadata": {
        "id": "4xFkAJ4RHKva",
        "colab_type": "code",
        "colab": {
          "base_uri": "https://localhost:8080/",
          "height": 34
        },
        "outputId": "09a99fd0-62af-4a8a-c43b-0ae3256caf61"
      },
      "source": [
        "cd gdrive/My\\ Drive\n"
      ],
      "execution_count": 2,
      "outputs": [
        {
          "output_type": "stream",
          "text": [
            "/content/gdrive/My Drive\n"
          ],
          "name": "stdout"
        }
      ]
    },
    {
      "cell_type": "code",
      "metadata": {
        "id": "nZ5Z5ushHlol",
        "colab_type": "code",
        "colab": {
          "base_uri": "https://localhost:8080/",
          "height": 34
        },
        "outputId": "42a6975e-8531-4d03-88eb-fb28f6ba4772"
      },
      "source": [
        "cd Job\\ Drive\\ "
      ],
      "execution_count": 6,
      "outputs": [
        {
          "output_type": "stream",
          "text": [
            "/content/gdrive/My Drive/Job Drive \n"
          ],
          "name": "stdout"
        }
      ]
    },
    {
      "cell_type": "code",
      "metadata": {
        "id": "SMtp0muGHmm4",
        "colab_type": "code",
        "colab": {
          "base_uri": "https://localhost:8080/",
          "height": 34
        },
        "outputId": "7a3d18a4-369d-4202-a6d5-b7e38386f8fb"
      },
      "source": [
        "cd Saathi/"
      ],
      "execution_count": 7,
      "outputs": [
        {
          "output_type": "stream",
          "text": [
            "/content/gdrive/My Drive/Job Drive /Saathi\n"
          ],
          "name": "stdout"
        }
      ]
    },
    {
      "cell_type": "code",
      "metadata": {
        "id": "cqOrv6AvH8N1",
        "colab_type": "code",
        "colab": {}
      },
      "source": [
        "# Import Libraries\n",
        "import numpy as np\n",
        "import pandas as pd\n",
        "from keras.preprocessing.text import Tokenizer\n",
        "from keras.preprocessing.sequence import pad_sequences\n",
        "from keras.utils import to_categorical\n",
        "from keras.models import Sequential\n",
        "from keras.layers import Input, Dense, Embedding, LSTM, Concatenate, Reshape, GRU, Bidirectional\n",
        "from keras import optimizers\n",
        "from keras.models import load_model\n",
        "import json, argparse, os\n",
        "import re\n",
        "import io\n",
        "import sys\n",
        "from keras.models import Model\n"
      ],
      "execution_count": 15,
      "outputs": []
    },
    {
      "cell_type": "code",
      "metadata": {
        "id": "5DbiDjNmH9-a",
        "colab_type": "code",
        "colab": {}
      },
      "source": [
        "## Set some global variables\n",
        "EMBEDDING_DIM = 300\n",
        "MAX_NB_WORDS = 20000\n",
        "MAX_SEQUENCE_LENGTH = 100\n",
        "LSTM_DIM = 100\n",
        "DROPOUT = 0.2\n",
        "NUM_CLASSES = 4\n",
        "LEARNING_RATE = 0.001\n",
        "NUM_EPOCHES = 10\n",
        "BATCH_SIZE = 200"
      ],
      "execution_count": 182,
      "outputs": []
    },
    {
      "cell_type": "code",
      "metadata": {
        "id": "DeOLcFDDdwt8",
        "colab_type": "code",
        "colab": {
          "base_uri": "https://localhost:8080/",
          "height": 195
        },
        "outputId": "3a7d2d2a-5522-43f6-8d7b-e9183a7317a7"
      },
      "source": [
        "# Read training data\n",
        "train = pd.read_csv('data/train.txt', sep='\\t')\n",
        "train.head()"
      ],
      "execution_count": 163,
      "outputs": [
        {
          "output_type": "execute_result",
          "data": {
            "text/html": [
              "<div>\n",
              "<style scoped>\n",
              "    .dataframe tbody tr th:only-of-type {\n",
              "        vertical-align: middle;\n",
              "    }\n",
              "\n",
              "    .dataframe tbody tr th {\n",
              "        vertical-align: top;\n",
              "    }\n",
              "\n",
              "    .dataframe thead th {\n",
              "        text-align: right;\n",
              "    }\n",
              "</style>\n",
              "<table border=\"1\" class=\"dataframe\">\n",
              "  <thead>\n",
              "    <tr style=\"text-align: right;\">\n",
              "      <th></th>\n",
              "      <th>id</th>\n",
              "      <th>turn1</th>\n",
              "      <th>turn2</th>\n",
              "      <th>turn3</th>\n",
              "      <th>label</th>\n",
              "    </tr>\n",
              "  </thead>\n",
              "  <tbody>\n",
              "    <tr>\n",
              "      <th>0</th>\n",
              "      <td>0</td>\n",
              "      <td>Don't worry  I'm girl</td>\n",
              "      <td>hmm how do I know if you are</td>\n",
              "      <td>What's ur name?</td>\n",
              "      <td>others</td>\n",
              "    </tr>\n",
              "    <tr>\n",
              "      <th>1</th>\n",
              "      <td>1</td>\n",
              "      <td>When did I?</td>\n",
              "      <td>saw many times i think -_-</td>\n",
              "      <td>No. I never saw you</td>\n",
              "      <td>angry</td>\n",
              "    </tr>\n",
              "    <tr>\n",
              "      <th>2</th>\n",
              "      <td>2</td>\n",
              "      <td>By</td>\n",
              "      <td>by Google Chrome</td>\n",
              "      <td>Where you live</td>\n",
              "      <td>others</td>\n",
              "    </tr>\n",
              "    <tr>\n",
              "      <th>3</th>\n",
              "      <td>3</td>\n",
              "      <td>U r ridiculous</td>\n",
              "      <td>I might be ridiculous but I am telling the truth.</td>\n",
              "      <td>U little disgusting whore</td>\n",
              "      <td>angry</td>\n",
              "    </tr>\n",
              "    <tr>\n",
              "      <th>4</th>\n",
              "      <td>4</td>\n",
              "      <td>Just for time pass</td>\n",
              "      <td>wt do u do 4 a living then</td>\n",
              "      <td>Maybe</td>\n",
              "      <td>others</td>\n",
              "    </tr>\n",
              "  </tbody>\n",
              "</table>\n",
              "</div>"
            ],
            "text/plain": [
              "   id                  turn1  ...                      turn3   label\n",
              "0   0  Don't worry  I'm girl  ...            What's ur name?  others\n",
              "1   1            When did I?  ...        No. I never saw you   angry\n",
              "2   2                     By  ...             Where you live  others\n",
              "3   3         U r ridiculous  ...  U little disgusting whore   angry\n",
              "4   4     Just for time pass  ...                      Maybe  others\n",
              "\n",
              "[5 rows x 5 columns]"
            ]
          },
          "metadata": {
            "tags": []
          },
          "execution_count": 163
        }
      ]
    },
    {
      "cell_type": "code",
      "metadata": {
        "id": "yPUqdqC6dwxT",
        "colab_type": "code",
        "colab": {
          "base_uri": "https://localhost:8080/",
          "height": 195
        },
        "outputId": "b6e7a48d-16a5-4009-a1db-eaa468d07aa2"
      },
      "source": [
        "# Read test data\n",
        "test = pd.read_csv('data/test.txt', sep='\\t')\n",
        "test.head()"
      ],
      "execution_count": 164,
      "outputs": [
        {
          "output_type": "execute_result",
          "data": {
            "text/html": [
              "<div>\n",
              "<style scoped>\n",
              "    .dataframe tbody tr th:only-of-type {\n",
              "        vertical-align: middle;\n",
              "    }\n",
              "\n",
              "    .dataframe tbody tr th {\n",
              "        vertical-align: top;\n",
              "    }\n",
              "\n",
              "    .dataframe thead th {\n",
              "        text-align: right;\n",
              "    }\n",
              "</style>\n",
              "<table border=\"1\" class=\"dataframe\">\n",
              "  <thead>\n",
              "    <tr style=\"text-align: right;\">\n",
              "      <th></th>\n",
              "      <th>id</th>\n",
              "      <th>turn1</th>\n",
              "      <th>turn2</th>\n",
              "      <th>turn3</th>\n",
              "      <th>label</th>\n",
              "    </tr>\n",
              "  </thead>\n",
              "  <tbody>\n",
              "    <tr>\n",
              "      <th>0</th>\n",
              "      <td>0</td>\n",
              "      <td>Hmm</td>\n",
              "      <td>What does your bio mean?</td>\n",
              "      <td>I don’t have any bio</td>\n",
              "      <td>others</td>\n",
              "    </tr>\n",
              "    <tr>\n",
              "      <th>1</th>\n",
              "      <td>1</td>\n",
              "      <td>What you like</td>\n",
              "      <td>very little things</td>\n",
              "      <td>Ok</td>\n",
              "      <td>others</td>\n",
              "    </tr>\n",
              "    <tr>\n",
              "      <th>2</th>\n",
              "      <td>2</td>\n",
              "      <td>Yes</td>\n",
              "      <td>How so?</td>\n",
              "      <td>I want to fuck babu</td>\n",
              "      <td>others</td>\n",
              "    </tr>\n",
              "    <tr>\n",
              "      <th>3</th>\n",
              "      <td>3</td>\n",
              "      <td>what did you guess</td>\n",
              "      <td>what what</td>\n",
              "      <td>fuck</td>\n",
              "      <td>others</td>\n",
              "    </tr>\n",
              "    <tr>\n",
              "      <th>4</th>\n",
              "      <td>4</td>\n",
              "      <td>We ?</td>\n",
              "      <td>of course we will!</td>\n",
              "      <td>What gender movies you like??</td>\n",
              "      <td>others</td>\n",
              "    </tr>\n",
              "  </tbody>\n",
              "</table>\n",
              "</div>"
            ],
            "text/plain": [
              "   id               turn1  ...                          turn3   label\n",
              "0   0                 Hmm  ...           I don’t have any bio  others\n",
              "1   1       What you like  ...                            Ok   others\n",
              "2   2                 Yes  ...            I want to fuck babu  others\n",
              "3   3  what did you guess  ...                           fuck  others\n",
              "4   4                We ?  ...  What gender movies you like??  others\n",
              "\n",
              "[5 rows x 5 columns]"
            ]
          },
          "metadata": {
            "tags": []
          },
          "execution_count": 164
        }
      ]
    },
    {
      "cell_type": "code",
      "metadata": {
        "id": "n0DxbJlHDAEa",
        "colab_type": "code",
        "colab": {}
      },
      "source": [
        "print (train.shape)\n",
        "print (test.shape)"
      ],
      "execution_count": null,
      "outputs": []
    },
    {
      "cell_type": "code",
      "metadata": {
        "id": "OH8YS6L-fzQz",
        "colab_type": "code",
        "colab": {
          "base_uri": "https://localhost:8080/",
          "height": 101
        },
        "outputId": "1ce5f22d-0b30-4a52-a5d1-4f1c67938eac"
      },
      "source": [
        "# Each class value count of traingin data\n",
        "train.label.value_counts(normalize=True)*100"
      ],
      "execution_count": 165,
      "outputs": [
        {
          "output_type": "execute_result",
          "data": {
            "text/plain": [
              "others    49.562334\n",
              "angry     18.255968\n",
              "sad       18.113395\n",
              "happy     14.068302\n",
              "Name: label, dtype: float64"
            ]
          },
          "metadata": {
            "tags": []
          },
          "execution_count": 165
        }
      ]
    },
    {
      "cell_type": "code",
      "metadata": {
        "id": "65GY7Kdef7hw",
        "colab_type": "code",
        "colab": {
          "base_uri": "https://localhost:8080/",
          "height": 101
        },
        "outputId": "1126897c-1074-41d2-cf77-38a19d4cdf41"
      },
      "source": [
        "# Each class value count of test data\n",
        "test.label.value_counts(normalize=True)*100"
      ],
      "execution_count": 166,
      "outputs": [
        {
          "output_type": "execute_result",
          "data": {
            "text/plain": [
              "others    84.897441\n",
              "angry      5.409330\n",
              "happy      5.155201\n",
              "sad        4.538029\n",
              "Name: label, dtype: float64"
            ]
          },
          "metadata": {
            "tags": []
          },
          "execution_count": 166
        }
      ]
    },
    {
      "cell_type": "code",
      "metadata": {
        "id": "T81vpPxmiPnb",
        "colab_type": "code",
        "colab": {
          "base_uri": "https://localhost:8080/",
          "height": 195
        },
        "outputId": "ecf5cee6-207a-407c-8248-4c1d10d1e693"
      },
      "source": [
        "# Sample training data\n",
        "train.head()"
      ],
      "execution_count": 167,
      "outputs": [
        {
          "output_type": "execute_result",
          "data": {
            "text/html": [
              "<div>\n",
              "<style scoped>\n",
              "    .dataframe tbody tr th:only-of-type {\n",
              "        vertical-align: middle;\n",
              "    }\n",
              "\n",
              "    .dataframe tbody tr th {\n",
              "        vertical-align: top;\n",
              "    }\n",
              "\n",
              "    .dataframe thead th {\n",
              "        text-align: right;\n",
              "    }\n",
              "</style>\n",
              "<table border=\"1\" class=\"dataframe\">\n",
              "  <thead>\n",
              "    <tr style=\"text-align: right;\">\n",
              "      <th></th>\n",
              "      <th>id</th>\n",
              "      <th>turn1</th>\n",
              "      <th>turn2</th>\n",
              "      <th>turn3</th>\n",
              "      <th>label</th>\n",
              "    </tr>\n",
              "  </thead>\n",
              "  <tbody>\n",
              "    <tr>\n",
              "      <th>0</th>\n",
              "      <td>0</td>\n",
              "      <td>Don't worry  I'm girl</td>\n",
              "      <td>hmm how do I know if you are</td>\n",
              "      <td>What's ur name?</td>\n",
              "      <td>others</td>\n",
              "    </tr>\n",
              "    <tr>\n",
              "      <th>1</th>\n",
              "      <td>1</td>\n",
              "      <td>When did I?</td>\n",
              "      <td>saw many times i think -_-</td>\n",
              "      <td>No. I never saw you</td>\n",
              "      <td>angry</td>\n",
              "    </tr>\n",
              "    <tr>\n",
              "      <th>2</th>\n",
              "      <td>2</td>\n",
              "      <td>By</td>\n",
              "      <td>by Google Chrome</td>\n",
              "      <td>Where you live</td>\n",
              "      <td>others</td>\n",
              "    </tr>\n",
              "    <tr>\n",
              "      <th>3</th>\n",
              "      <td>3</td>\n",
              "      <td>U r ridiculous</td>\n",
              "      <td>I might be ridiculous but I am telling the truth.</td>\n",
              "      <td>U little disgusting whore</td>\n",
              "      <td>angry</td>\n",
              "    </tr>\n",
              "    <tr>\n",
              "      <th>4</th>\n",
              "      <td>4</td>\n",
              "      <td>Just for time pass</td>\n",
              "      <td>wt do u do 4 a living then</td>\n",
              "      <td>Maybe</td>\n",
              "      <td>others</td>\n",
              "    </tr>\n",
              "  </tbody>\n",
              "</table>\n",
              "</div>"
            ],
            "text/plain": [
              "   id                  turn1  ...                      turn3   label\n",
              "0   0  Don't worry  I'm girl  ...            What's ur name?  others\n",
              "1   1            When did I?  ...        No. I never saw you   angry\n",
              "2   2                     By  ...             Where you live  others\n",
              "3   3         U r ridiculous  ...  U little disgusting whore   angry\n",
              "4   4     Just for time pass  ...                      Maybe  others\n",
              "\n",
              "[5 rows x 5 columns]"
            ]
          },
          "metadata": {
            "tags": []
          },
          "execution_count": 167
        }
      ]
    },
    {
      "cell_type": "code",
      "metadata": {
        "id": "hkBYLdEki9qG",
        "colab_type": "code",
        "colab": {}
      },
      "source": [
        "# Remove ?? !!! ..... duplicate special character\n",
        "def remove_duplicate(line):\n",
        "  '''\n",
        "    Remove repeated special char\n",
        "  '''\n",
        "  repeatedChars = ['.', '?', '!', ',']\n",
        "  for c in repeatedChars:\n",
        "      lineSplit = line.split(c)\n",
        "      while True:\n",
        "          try:\n",
        "              lineSplit.remove('')\n",
        "          except:\n",
        "              break\n",
        "      cSpace = ' ' + c + ' '    \n",
        "      line = cSpace.join(lineSplit)\n",
        "  \n",
        "  line = line.strip().split('\\t')\n",
        "  return line"
      ],
      "execution_count": 168,
      "outputs": []
    },
    {
      "cell_type": "code",
      "metadata": {
        "id": "yM7G-3TVmu4n",
        "colab_type": "code",
        "colab": {}
      },
      "source": [
        "## Remove spaces\n",
        "def cleanSpec(x):\n",
        "  duplicateSpacePattern = re.compile(r'\\ +')\n",
        "  return duplicateSpacePattern.sub(' ', x)"
      ],
      "execution_count": 169,
      "outputs": []
    },
    {
      "cell_type": "code",
      "metadata": {
        "id": "c8dicQjDjWuL",
        "colab_type": "code",
        "colab": {}
      },
      "source": [
        "## Preprocess training data\n",
        "train['turn1'] = train['turn1'].apply(lambda x: x.lower())\n",
        "train['turn2'] = train['turn2'].apply(lambda x: x.lower())\n",
        "train['turn3'] = train['turn3'].apply(lambda x: x.lower())\n",
        "\n",
        "train['turn1'] = train['turn1'].apply(lambda x: remove_duplicate(x))\n",
        "train['turn2'] = train['turn2'].apply(lambda x: remove_duplicate(x))\n",
        "train['turn3'] = train['turn3'].apply(lambda x: remove_duplicate(x))\n",
        "\n",
        "train['turn1'] = train['turn1'].apply(lambda x: ' <eos> '.join(x))\n",
        "train['turn2'] = train['turn2'].apply(lambda x: ' <eos> '.join(x))\n",
        "train['turn3'] = train['turn3'].apply(lambda x: ' <eos> '.join(x))\n",
        "\n",
        "train['turn1'] = train['turn1'].apply(lambda x: cleanSpec(x))\n",
        "train['turn2'] = train['turn2'].apply(lambda x: cleanSpec(x))\n",
        "train['turn3'] = train['turn3'].apply(lambda x: cleanSpec(x))"
      ],
      "execution_count": 170,
      "outputs": []
    },
    {
      "cell_type": "code",
      "metadata": {
        "id": "QQ7WQWASiPqy",
        "colab_type": "code",
        "colab": {}
      },
      "source": [
        "# Preprocess test data\n",
        "test['turn1'] = test['turn1'].apply(lambda x: x.lower())\n",
        "test['turn2'] = test['turn2'].apply(lambda x: x.lower())\n",
        "test['turn3'] = test['turn3'].apply(lambda x: x.lower())\n",
        "\n",
        "test['turn1'] = test['turn1'].apply(lambda x: remove_duplicate(x))\n",
        "test['turn2'] = test['turn2'].apply(lambda x: remove_duplicate(x))\n",
        "test['turn3'] = test['turn3'].apply(lambda x: remove_duplicate(x))\n",
        "\n",
        "test['turn1'] = test['turn1'].apply(lambda x: ' <eos> '.join(x))\n",
        "test['turn2'] = test['turn2'].apply(lambda x: ' <eos> '.join(x))\n",
        "test['turn3'] = test['turn3'].apply(lambda x: ' <eos> '.join(x))\n",
        "\n",
        "test['turn1'] = test['turn1'].apply(lambda x: cleanSpec(x))\n",
        "test['turn2'] = test['turn2'].apply(lambda x: cleanSpec(x))\n",
        "test['turn3'] = test['turn3'].apply(lambda x: cleanSpec(x))"
      ],
      "execution_count": 171,
      "outputs": []
    },
    {
      "cell_type": "code",
      "metadata": {
        "id": "zt0l4x2hnT0z",
        "colab_type": "code",
        "colab": {}
      },
      "source": [
        "## Tokenization training data and train tokenizer\n",
        "tokenizer = Tokenizer(num_words=MAX_NB_WORDS)\n",
        "tokenizer.fit_on_texts(train.turn1+train.turn2+train.turn3)\n"
      ],
      "execution_count": 172,
      "outputs": []
    },
    {
      "cell_type": "code",
      "metadata": {
        "id": "0sYKST4NnT74",
        "colab_type": "code",
        "colab": {}
      },
      "source": [
        "## Tokenization \n",
        "u1_tokens = tokenizer.texts_to_sequences(train.turn1)\n",
        "u2_tokens = tokenizer.texts_to_sequences(train.turn2)\n",
        "u3_tokens = tokenizer.texts_to_sequences(train.turn3)\n",
        "u1_test_tokens = tokenizer.texts_to_sequences(test.turn1)\n",
        "u2_test_tokens = tokenizer.texts_to_sequences(test.turn2)\n",
        "u3_test_tokens = tokenizer.texts_to_sequences(test.turn3)\n"
      ],
      "execution_count": 190,
      "outputs": []
    },
    {
      "cell_type": "code",
      "metadata": {
        "id": "Tb8_v2gplA6f",
        "colab_type": "code",
        "colab": {}
      },
      "source": [
        ""
      ],
      "execution_count": 173,
      "outputs": []
    },
    {
      "cell_type": "code",
      "metadata": {
        "id": "adEexdsjr-EQ",
        "colab_type": "code",
        "colab": {}
      },
      "source": [
        "#!unzip ../../W2VecVectors/glove.840B.300d.zip "
      ],
      "execution_count": 174,
      "outputs": []
    },
    {
      "cell_type": "code",
      "metadata": {
        "id": "k7mrwtsTqvxE",
        "colab_type": "code",
        "colab": {}
      },
      "source": [
        "## https://github.com/declare-lab/conv-emotion/tree/master/bc-LSTM\n",
        "def getEmbeddingMatrix(wordIndex):\n",
        "    \"\"\"Populate an embedding matrix using a word-index. If the word \"happy\" has an index 19,\n",
        "       the 19th row in the embedding matrix should contain the embedding vector for the word \"happy\".\n",
        "    Input:\n",
        "        wordIndex : A dictionary of (word : index) pairs, extracted using a tokeniser\n",
        "    Output:\n",
        "        embeddingMatrix : A matrix where every row has 100 dimensional GloVe embedding\n",
        "    \"\"\"\n",
        "    embeddingsIndex = {}\n",
        "    # Load the embedding vectors from ther GloVe file\n",
        "    with io.open(os.path.join('./', 'glove.840B.300d.txt'), encoding=\"utf8\") as f:\n",
        "        for line in f:\n",
        "            values = line.split(' ')\n",
        "           # print(values)\n",
        "            word = values[0]\n",
        "            embeddingVector = np.array([float(val) for val in values[1:]])\n",
        "            embeddingsIndex[word] = embeddingVector\n",
        "    \n",
        "    print('Found %s word vectors.' % len(embeddingsIndex))\n",
        "    \n",
        "    # Minimum word index of any word is 1. \n",
        "    embeddingMatrix = np.zeros((len(wordIndex) + 1, EMBEDDING_DIM))\n",
        "    for word, i in wordIndex.items():\n",
        "        embeddingVector = embeddingsIndex.get(word)\n",
        "        if embeddingVector is not None:\n",
        "            # words not found in embedding index will be all-zeros.\n",
        "            embeddingMatrix[i] = embeddingVector\n",
        "    \n",
        "    return embeddingMatrix"
      ],
      "execution_count": 175,
      "outputs": []
    },
    {
      "cell_type": "code",
      "metadata": {
        "id": "NAVtej9Iqgeb",
        "colab_type": "code",
        "colab": {
          "base_uri": "https://localhost:8080/",
          "height": 34
        },
        "outputId": "690d73df-0183-4681-bcd3-cd903d0e89c3"
      },
      "source": [
        "wordIndex = tokenizer.word_index\n",
        "embeddingMatrix = getEmbeddingMatrix(wordIndex)"
      ],
      "execution_count": 68,
      "outputs": [
        {
          "output_type": "stream",
          "text": [
            "Found 2196016 word vectors.\n"
          ],
          "name": "stdout"
        }
      ]
    },
    {
      "cell_type": "code",
      "metadata": {
        "id": "bOSsQ5xFxBJw",
        "colab_type": "code",
        "colab": {
          "base_uri": "https://localhost:8080/",
          "height": 34
        },
        "outputId": "4a06be3e-e29b-437a-ee74-8637f02eb070"
      },
      "source": [
        "embeddingMatrix.shape"
      ],
      "execution_count": 154,
      "outputs": [
        {
          "output_type": "execute_result",
          "data": {
            "text/plain": [
              "(47989, 300)"
            ]
          },
          "metadata": {
            "tags": []
          },
          "execution_count": 154
        }
      ]
    },
    {
      "cell_type": "code",
      "metadata": {
        "id": "Lx3YxQufxDL5",
        "colab_type": "code",
        "colab": {}
      },
      "source": [
        "u1_tokens = pad_sequences(u1_tokens, maxlen=MAX_SEQUENCE_LENGTH)\n",
        "u2_tokens = pad_sequences(u2_tokens, maxlen=MAX_SEQUENCE_LENGTH)\n",
        "u3_tokens = pad_sequences(u3_tokens, maxlen=MAX_SEQUENCE_LENGTH)\n",
        "u1_test_tokens = pad_sequences(u1_test_tokens, maxlen=MAX_SEQUENCE_LENGTH)\n",
        "u2_test_tokens = pad_sequences(u2_test_tokens, maxlen=MAX_SEQUENCE_LENGTH)\n",
        "u3_test_tokens = pad_sequences(u3_test_tokens, maxlen=MAX_SEQUENCE_LENGTH)\n"
      ],
      "execution_count": 191,
      "outputs": []
    },
    {
      "cell_type": "code",
      "metadata": {
        "id": "JRSmT8y3wJ5f",
        "colab_type": "code",
        "colab": {}
      },
      "source": [
        "emotion2label = {\"others\":0, \"happy\":1, \"sad\":2, \"angry\":3}\n",
        "train.label.replace(emotion2label, inplace=True)\n",
        "test.label.replace(emotion2label, inplace=True)"
      ],
      "execution_count": 177,
      "outputs": []
    },
    {
      "cell_type": "code",
      "metadata": {
        "id": "9nB96aaApYDE",
        "colab_type": "code",
        "colab": {}
      },
      "source": [
        "train_labels = to_categorical(np.array(train.label))\n",
        "test_labels = to_categorical(np.array(test.label))\n"
      ],
      "execution_count": 178,
      "outputs": []
    },
    {
      "cell_type": "code",
      "metadata": {
        "id": "TOIYwU3lwlu4",
        "colab_type": "code",
        "colab": {
          "base_uri": "https://localhost:8080/",
          "height": 134
        },
        "outputId": "ae9e2ee6-d331-4b82-9ebd-083b682513ad"
      },
      "source": [
        "train_labels"
      ],
      "execution_count": 179,
      "outputs": [
        {
          "output_type": "execute_result",
          "data": {
            "text/plain": [
              "array([[1., 0., 0., 0.],\n",
              "       [0., 0., 0., 1.],\n",
              "       [1., 0., 0., 0.],\n",
              "       ...,\n",
              "       [1., 0., 0., 0.],\n",
              "       [1., 0., 0., 0.],\n",
              "       [1., 0., 0., 0.]], dtype=float32)"
            ]
          },
          "metadata": {
            "tags": []
          },
          "execution_count": 179
        }
      ]
    },
    {
      "cell_type": "code",
      "metadata": {
        "id": "_3saAZvXmjM1",
        "colab_type": "code",
        "colab": {}
      },
      "source": [
        ""
      ],
      "execution_count": null,
      "outputs": []
    },
    {
      "cell_type": "code",
      "metadata": {
        "id": "ZMpTOng-dw0l",
        "colab_type": "code",
        "colab": {
          "base_uri": "https://localhost:8080/",
          "height": 571
        },
        "outputId": "e722733e-d23a-4e2e-9e6d-fd90c40cd25f"
      },
      "source": [
        "## Create a model\n",
        "x1 = Input(shape=(100,), dtype='int32', name='main_input1')\n",
        "x2 = Input(shape=(100,), dtype='int32', name='main_input2')\n",
        "x3 = Input(shape=(100,), dtype='int32', name='main_input3')\n",
        "embeddingLayer = Embedding(embeddingMatrix.shape[0],\n",
        "                                EMBEDDING_DIM,\n",
        "                                weights=[embeddingMatrix],\n",
        "                                input_length=MAX_SEQUENCE_LENGTH,\n",
        "                                trainable=False)\n",
        "emb1 = embeddingLayer(x1)\n",
        "emb2 = embeddingLayer(x2)\n",
        "emb3 = embeddingLayer(x3)\n",
        "\n",
        "lstm = Bidirectional(LSTM(LSTM_DIM, dropout=DROPOUT))\n",
        "lstm1 = lstm(emb1)\n",
        "lstm2 = lstm(emb2)\n",
        "lstm3 = lstm(emb3)\n",
        "inp = Concatenate(axis=-1)([lstm1, lstm2, lstm3])\n",
        "inp = Reshape((3, 2*LSTM_DIM, )) (inp)\n",
        "lstm_up = LSTM(LSTM_DIM, dropout=DROPOUT)\n",
        "out = lstm_up(inp)\n",
        "out = Dense(NUM_CLASSES, activation='softmax')(out)\n",
        "adam = optimizers.adam(lr=LEARNING_RATE)\n",
        "model = Model([x1,x2,x3],out)\n",
        "model.compile(loss='categorical_crossentropy',\n",
        "              optimizer=adam,\n",
        "              metrics=['acc'])\n",
        "print(model.summary())"
      ],
      "execution_count": 183,
      "outputs": [
        {
          "output_type": "stream",
          "text": [
            "Model: \"model_5\"\n",
            "__________________________________________________________________________________________________\n",
            "Layer (type)                    Output Shape         Param #     Connected to                     \n",
            "==================================================================================================\n",
            "main_input1 (InputLayer)        (None, 100)          0                                            \n",
            "__________________________________________________________________________________________________\n",
            "main_input2 (InputLayer)        (None, 100)          0                                            \n",
            "__________________________________________________________________________________________________\n",
            "main_input3 (InputLayer)        (None, 100)          0                                            \n",
            "__________________________________________________________________________________________________\n",
            "embedding_10 (Embedding)        (None, 100, 300)     14396700    main_input1[0][0]                \n",
            "                                                                 main_input2[0][0]                \n",
            "                                                                 main_input3[0][0]                \n",
            "__________________________________________________________________________________________________\n",
            "bidirectional_7 (Bidirectional) (None, 200)          320800      embedding_10[0][0]               \n",
            "                                                                 embedding_10[1][0]               \n",
            "                                                                 embedding_10[2][0]               \n",
            "__________________________________________________________________________________________________\n",
            "concatenate_7 (Concatenate)     (None, 600)          0           bidirectional_7[0][0]            \n",
            "                                                                 bidirectional_7[1][0]            \n",
            "                                                                 bidirectional_7[2][0]            \n",
            "__________________________________________________________________________________________________\n",
            "reshape_7 (Reshape)             (None, 3, 200)       0           concatenate_7[0][0]              \n",
            "__________________________________________________________________________________________________\n",
            "lstm_14 (LSTM)                  (None, 100)          120400      reshape_7[0][0]                  \n",
            "__________________________________________________________________________________________________\n",
            "dense_6 (Dense)                 (None, 4)            404         lstm_14[0][0]                    \n",
            "==================================================================================================\n",
            "Total params: 14,838,304\n",
            "Trainable params: 441,604\n",
            "Non-trainable params: 14,396,700\n",
            "__________________________________________________________________________________________________\n",
            "None\n"
          ],
          "name": "stdout"
        }
      ]
    },
    {
      "cell_type": "code",
      "metadata": {
        "id": "HcUs_x-Md65_",
        "colab_type": "code",
        "colab": {
          "base_uri": "https://localhost:8080/",
          "height": 370
        },
        "outputId": "1f7ff7d0-7336-4502-a234-0e45fa683845"
      },
      "source": [
        "model.fit([u1_tokens,u2_tokens, u3_tokens], train_labels, epochs = NUM_EPOCHES, batch_size = BATCH_SIZE)"
      ],
      "execution_count": 184,
      "outputs": [
        {
          "output_type": "stream",
          "text": [
            "Epoch 1/10\n",
            "30160/30160 [==============================] - 552s 18ms/step - loss: 0.9830 - acc: 0.5974\n",
            "Epoch 2/10\n",
            "30160/30160 [==============================] - 533s 18ms/step - loss: 0.6817 - acc: 0.7417\n",
            "Epoch 3/10\n",
            "30160/30160 [==============================] - 548s 18ms/step - loss: 0.5811 - acc: 0.7799\n",
            "Epoch 4/10\n",
            "30160/30160 [==============================] - 534s 18ms/step - loss: 0.5235 - acc: 0.8057\n",
            "Epoch 5/10\n",
            "30160/30160 [==============================] - 546s 18ms/step - loss: 0.4737 - acc: 0.8240\n",
            "Epoch 6/10\n",
            "30160/30160 [==============================] - 546s 18ms/step - loss: 0.4403 - acc: 0.8385\n",
            "Epoch 7/10\n",
            "30160/30160 [==============================] - 525s 17ms/step - loss: 0.4157 - acc: 0.8487\n",
            "Epoch 8/10\n",
            "30160/30160 [==============================] - 525s 17ms/step - loss: 0.3967 - acc: 0.8562\n",
            "Epoch 9/10\n",
            "30160/30160 [==============================] - 541s 18ms/step - loss: 0.3745 - acc: 0.8631\n",
            "Epoch 10/10\n",
            "30160/30160 [==============================] - 529s 18ms/step - loss: 0.3585 - acc: 0.8706\n"
          ],
          "name": "stdout"
        },
        {
          "output_type": "execute_result",
          "data": {
            "text/plain": [
              "<keras.callbacks.callbacks.History at 0x7f9d2faeb978>"
            ]
          },
          "metadata": {
            "tags": []
          },
          "execution_count": 184
        }
      ]
    },
    {
      "cell_type": "code",
      "metadata": {
        "id": "ChK8lXXV0y-6",
        "colab_type": "code",
        "colab": {}
      },
      "source": [
        "predictions = model.predict([u1_test_tokens, u2_test_tokens, u3_test_tokens], batch_size=BATCH_SIZE)\n",
        "predictions = predictions.argmax(axis=1)"
      ],
      "execution_count": 192,
      "outputs": []
    },
    {
      "cell_type": "code",
      "metadata": {
        "id": "ezJQ-XBzVkA1",
        "colab_type": "code",
        "colab": {}
      },
      "source": [
        "model.save('ERCModel.h5')"
      ],
      "execution_count": 201,
      "outputs": []
    },
    {
      "cell_type": "code",
      "metadata": {
        "id": "m0xAe3zH2T5y",
        "colab_type": "code",
        "colab": {
          "base_uri": "https://localhost:8080/",
          "height": 202
        },
        "outputId": "088b849f-a747-414c-cd73-1a6c4eee5c18"
      },
      "source": [
        "from sklearn.metrics import confusion_matrix, classification_report\n",
        "\n",
        "\n",
        "print(classification_report(test_labels.argmax(axis=1), predictions))"
      ],
      "execution_count": 200,
      "outputs": [
        {
          "output_type": "stream",
          "text": [
            "              precision    recall  f1-score   support\n",
            "\n",
            "           0       0.95      0.92      0.94      4677\n",
            "           1       0.59      0.54      0.57       284\n",
            "           2       0.60      0.67      0.63       250\n",
            "           3       0.57      0.83      0.67       298\n",
            "\n",
            "    accuracy                           0.89      5509\n",
            "   macro avg       0.68      0.74      0.70      5509\n",
            "weighted avg       0.90      0.89      0.89      5509\n",
            "\n"
          ],
          "name": "stdout"
        }
      ]
    },
    {
      "cell_type": "code",
      "metadata": {
        "id": "m58G2U1nUbQ9",
        "colab_type": "code",
        "colab": {}
      },
      "source": [
        ""
      ],
      "execution_count": null,
      "outputs": []
    },
    {
      "cell_type": "markdown",
      "metadata": {
        "id": "CNVejKeJU9bS",
        "colab_type": "text"
      },
      "source": [
        "**Conclusion**\n",
        "\n",
        "\n",
        "*   I got 89% accuracy on the test data using deep learning LSTM model\n",
        "\n"
      ]
    },
    {
      "cell_type": "code",
      "metadata": {
        "id": "WAz7ZeNqVLGo",
        "colab_type": "code",
        "colab": {}
      },
      "source": [
        ""
      ],
      "execution_count": null,
      "outputs": []
    }
  ]
}